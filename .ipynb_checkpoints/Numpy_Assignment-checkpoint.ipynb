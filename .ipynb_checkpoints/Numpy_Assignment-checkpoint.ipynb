{
 "cells": [
  {
   "cell_type": "markdown",
   "id": "fd6341ae-6bf9-47d3-8a9a-35893d726a20",
   "metadata": {},
   "source": [
    "# NumPy Assignment"
   ]
  },
  {
   "cell_type": "markdown",
   "id": "54f91823-e8c2-4584-88a5-3c3134cb87b7",
   "metadata": {},
   "source": [
    "### Import the numpy package under the name as np & print the numpy version"
   ]
  },
  {
   "cell_type": "code",
   "execution_count": 6,
   "id": "fb2386ba-9dc5-407f-a07b-83dbfc86e533",
   "metadata": {},
   "outputs": [],
   "source": [
    "import numpy as np"
   ]
  },
  {
   "cell_type": "code",
   "execution_count": 2,
   "id": "1a832912-eb2c-495c-9740-77089ee5be12",
   "metadata": {},
   "outputs": [
    {
     "data": {
      "text/plain": [
       "'1.21.5'"
      ]
     },
     "execution_count": 2,
     "metadata": {},
     "output_type": "execute_result"
    }
   ],
   "source": [
    "np.__version__"
   ]
  },
  {
   "cell_type": "markdown",
   "id": "e78ec948-5156-43cb-ad8b-e16cc946539e",
   "metadata": {},
   "source": [
    "### Create a null vector of size 10"
   ]
  },
  {
   "cell_type": "code",
   "execution_count": 5,
   "id": "02f89e51-1a09-4c6d-9427-5d8e114cb6b5",
   "metadata": {},
   "outputs": [
    {
     "data": {
      "text/plain": [
       "array([0., 0., 0., 0., 0., 0., 0., 0., 0., 0.])"
      ]
     },
     "execution_count": 5,
     "metadata": {},
     "output_type": "execute_result"
    }
   ],
   "source": [
    "nrr = np.zeros(10)\n",
    "nrr"
   ]
  },
  {
   "cell_type": "markdown",
   "id": "89d4ab4a-d7a2-4bee-90b5-4c9bb062c9be",
   "metadata": {},
   "source": [
    "### Create a null vector of size 10 but the fifth value which is 1"
   ]
  },
  {
   "cell_type": "code",
   "execution_count": 9,
   "id": "43668599-5ccf-4ba7-9cd2-6a239f0e0eb3",
   "metadata": {},
   "outputs": [
    {
     "data": {
      "text/plain": [
       "array([0, 0, 0, 0, 1, 0, 0, 0, 0, 0])"
      ]
     },
     "execution_count": 9,
     "metadata": {},
     "output_type": "execute_result"
    }
   ],
   "source": [
    "# 1. yol                               where(condition, [x, y])\n",
    "np.where(np.arange(10)==4,1,0)       # Return elements chosen from `x` or `y` depending on `condition`."
   ]
  },
  {
   "cell_type": "code",
   "execution_count": 10,
   "id": "d8fa714c-1068-44c9-bef9-dc75e0920175",
   "metadata": {},
   "outputs": [
    {
     "data": {
      "text/plain": [
       "array([0, 0, 0, 0, 1, 0, 0, 0, 0, 0])"
      ]
     },
     "execution_count": 10,
     "metadata": {},
     "output_type": "execute_result"
    }
   ],
   "source": [
    "# 2.yol\n",
    "np.array([int(x==4) for x in range(10)])"
   ]
  },
  {
   "cell_type": "code",
   "execution_count": 11,
   "id": "0befe547-87cb-463b-809b-26f80ed21135",
   "metadata": {},
   "outputs": [
    {
     "data": {
      "text/plain": [
       "array([0, 0, 0, 0, 1, 0, 0, 0, 0, 0])"
      ]
     },
     "execution_count": 11,
     "metadata": {},
     "output_type": "execute_result"
    }
   ],
   "source": [
    "# 3. yol\n",
    "(np.arange(10) == 4).astype(int)"
   ]
  },
  {
   "cell_type": "code",
   "execution_count": 15,
   "id": "1e479720-ecd9-49d3-8683-3fcc0be926fc",
   "metadata": {},
   "outputs": [
    {
     "data": {
      "text/plain": [
       "array([0, 0, 0, 0, 1, 0, 0, 0, 0, 0])"
      ]
     },
     "execution_count": 15,
     "metadata": {},
     "output_type": "execute_result"
    }
   ],
   "source": [
    "# 4. yol\n",
    "(np.arange(10) == 4) * 1          # False * 1 = 0 / True * 1 = 1"
   ]
  },
  {
   "cell_type": "markdown",
   "id": "0f42044f-3b8b-4676-b634-0e59428bb0f6",
   "metadata": {},
   "source": [
    "### Create a vector with values ranging from 10 to 49"
   ]
  },
  {
   "cell_type": "code",
   "execution_count": 4,
   "id": "6db6d047-ce2b-4f67-86d3-ac902e4ed9f7",
   "metadata": {},
   "outputs": [
    {
     "data": {
      "text/plain": [
       "array([10, 11, 12, 13, 14, 15, 16, 17, 18, 19, 20, 21, 22, 23, 24, 25, 26,\n",
       "       27, 28, 29, 30, 31, 32, 33, 34, 35, 36, 37, 38, 39, 40, 41, 42, 43,\n",
       "       44, 45, 46, 47, 48, 49])"
      ]
     },
     "execution_count": 4,
     "metadata": {},
     "output_type": "execute_result"
    }
   ],
   "source": [
    "a = np.arange(10,50)\n",
    "a"
   ]
  },
  {
   "cell_type": "markdown",
   "id": "d82eb44f-7d22-4c8c-b546-b7bcedaeb9ba",
   "metadata": {},
   "source": [
    "### Reverse a vector (first element becomes last)"
   ]
  },
  {
   "cell_type": "code",
   "execution_count": 3,
   "id": "7273a3c3-cbda-4863-8b1b-45b0b118070a",
   "metadata": {},
   "outputs": [
    {
     "data": {
      "text/plain": [
       "array([49, 48, 47, 46, 45, 44, 43, 42, 41, 40, 39, 38, 37, 36, 35, 34, 33,\n",
       "       32, 31, 30, 29, 28, 27, 26, 25, 24, 23, 22, 21, 20, 19, 18, 17, 16,\n",
       "       15, 14, 13, 12, 11, 10])"
      ]
     },
     "execution_count": 3,
     "metadata": {},
     "output_type": "execute_result"
    }
   ],
   "source": [
    "a[::-1]"
   ]
  },
  {
   "cell_type": "markdown",
   "id": "df97d4b2-d5a5-45b1-a516-78765870d895",
   "metadata": {},
   "source": [
    "### Create a 3x3 matrix with values ranging from 0 to 8"
   ]
  },
  {
   "cell_type": "code",
   "execution_count": 30,
   "id": "83587f1f-bb43-4417-b67c-31fa7b8cecc9",
   "metadata": {},
   "outputs": [
    {
     "data": {
      "text/plain": [
       "array([[0, 1, 2],\n",
       "       [3, 4, 5],\n",
       "       [6, 7, 8]])"
      ]
     },
     "execution_count": 30,
     "metadata": {},
     "output_type": "execute_result"
    }
   ],
   "source": [
    "b = np.arange(9).reshape(3,3)\n",
    "b"
   ]
  },
  {
   "cell_type": "markdown",
   "id": "7548378e-9452-422b-8c39-581ee8b79ccc",
   "metadata": {},
   "source": [
    "### Find indices of non­zero elements from [1,2,0,0,4,0]"
   ]
  },
  {
   "cell_type": "code",
   "execution_count": 9,
   "id": "1d2dac78-e938-4477-8ae2-de777e3cb77c",
   "metadata": {},
   "outputs": [
    {
     "data": {
      "text/plain": [
       "[array([0, 1, 4], dtype=int64)]"
      ]
     },
     "execution_count": 9,
     "metadata": {},
     "output_type": "execute_result"
    }
   ],
   "source": [
    "arr = np.array([1,2,0,0,4,0])\n",
    "np.nonzero(arr)"
   ]
  },
  {
   "cell_type": "markdown",
   "id": "f19deff1-3d26-403c-af95-0eeeb2205491",
   "metadata": {},
   "source": [
    "### Create a 3x3 identity matrix"
   ]
  },
  {
   "cell_type": "code",
   "execution_count": 36,
   "id": "c3bf338c-a634-44eb-94db-4abac0ef5b82",
   "metadata": {},
   "outputs": [
    {
     "data": {
      "text/plain": [
       "array([[1., 0., 0.],\n",
       "       [0., 1., 0.],\n",
       "       [0., 0., 1.]])"
      ]
     },
     "execution_count": 36,
     "metadata": {},
     "output_type": "execute_result"
    }
   ],
   "source": [
    "arr=np.identity(3)\n",
    "arr"
   ]
  },
  {
   "cell_type": "markdown",
   "id": "25c351f4-4327-4700-9e7e-ca5000d6f383",
   "metadata": {},
   "source": [
    "### Create a 3x3x3 array with random values"
   ]
  },
  {
   "cell_type": "code",
   "execution_count": 37,
   "id": "6eba9d0f-2e10-4837-9d56-b2cd5cf0c632",
   "metadata": {},
   "outputs": [
    {
     "data": {
      "text/plain": [
       "array([[[0.49680275, 0.35887309, 0.67356909],\n",
       "        [0.47993789, 0.3424819 , 0.84152563],\n",
       "        [0.7404489 , 0.66672723, 0.74102889]],\n",
       "\n",
       "       [[0.78464672, 0.71110388, 0.475235  ],\n",
       "        [0.59077546, 0.83134765, 0.28644543],\n",
       "        [0.15672358, 0.91821298, 0.84984726]],\n",
       "\n",
       "       [[0.47545794, 0.88537462, 0.07371147],\n",
       "        [0.14514923, 0.28048034, 0.44094007],\n",
       "        [0.53102857, 0.21389449, 0.20123448]]])"
      ]
     },
     "execution_count": 37,
     "metadata": {},
     "output_type": "execute_result"
    }
   ],
   "source": [
    "arr1 = np.random.random((3,3,3))             # [0.0, 1.0) aralığında\n",
    "arr1"
   ]
  },
  {
   "cell_type": "code",
   "execution_count": 41,
   "id": "d9a23293-78f3-406b-b639-a23b47b1dde9",
   "metadata": {},
   "outputs": [
    {
     "data": {
      "text/plain": [
       "array([[[3.66987854e-01, 3.16561082e-01, 1.06766805e-04],\n",
       "        [7.09666833e-01, 2.00766591e-01, 8.76122749e-01],\n",
       "        [8.53107639e-01, 4.35450143e-01, 8.59812199e-01]],\n",
       "\n",
       "       [[1.61340718e-01, 7.76104110e-01, 8.69571363e-01],\n",
       "        [8.57831640e-02, 7.44211525e-01, 2.70423548e-01],\n",
       "        [4.30418893e-01, 1.87023987e-01, 2.50210280e-01]],\n",
       "\n",
       "       [[2.97156242e-02, 2.19475724e-01, 8.58414457e-01],\n",
       "        [8.54868358e-01, 2.88823821e-01, 2.51549301e-01],\n",
       "        [8.65060993e-01, 6.08513068e-01, 7.38049438e-01]]])"
      ]
     },
     "execution_count": 41,
     "metadata": {},
     "output_type": "execute_result"
    }
   ],
   "source": [
    "arr2= np.random.rand(3,3,3)\n",
    "arr2"
   ]
  },
  {
   "cell_type": "code",
   "execution_count": 43,
   "id": "e288ccdc-e395-4e2a-bdee-d0d9567c5f79",
   "metadata": {},
   "outputs": [
    {
     "data": {
      "text/plain": [
       "array([[[2, 5, 5],\n",
       "        [6, 8, 0],\n",
       "        [4, 0, 8]],\n",
       "\n",
       "       [[8, 1, 4],\n",
       "        [0, 1, 3],\n",
       "        [6, 4, 1]],\n",
       "\n",
       "       [[1, 8, 0],\n",
       "        [9, 5, 5],\n",
       "        [7, 1, 5]]])"
      ]
     },
     "execution_count": 43,
     "metadata": {},
     "output_type": "execute_result"
    }
   ],
   "source": [
    "arr3 = np.random.randint(10, size = (3,3,3))\n",
    "arr3"
   ]
  },
  {
   "cell_type": "markdown",
   "id": "81786b64-75d4-4bb3-9b04-af8c313e7ad2",
   "metadata": {},
   "source": [
    "### Create a 10x10 array with random values and find the minimum and maximum values"
   ]
  },
  {
   "cell_type": "code",
   "execution_count": 10,
   "id": "e0ea515e-144f-49bc-aa87-a16d6f266514",
   "metadata": {},
   "outputs": [
    {
     "data": {
      "text/plain": [
       "array([[13, 41, 86, 40, 31, 26, 83, 33, 63, 31],\n",
       "       [29, 70, 66, 78, 71, 85, 15, 55, 77, 36],\n",
       "       [50, 42, 67, 42, 58, 92, 95, 32, 54, 37],\n",
       "       [82, 73, 45, 17, 11, 49, 73, 58, 87, 53],\n",
       "       [ 7, 74, 59, 55, 37, 22,  3, 32, 38, 95],\n",
       "       [47, 76, 68, 34, 77,  3, 94, 46,  9,  0],\n",
       "       [35, 83, 89, 79, 44, 43, 60, 40, 73, 44],\n",
       "       [34,  5, 92, 39,  4,  4, 58, 26, 47, 40],\n",
       "       [76, 51, 16, 38, 45, 54, 26, 70, 52, 80],\n",
       "       [20, 94, 11, 55, 15, 23, 28, 23, 15, 64]])"
      ]
     },
     "execution_count": 10,
     "metadata": {},
     "output_type": "execute_result"
    }
   ],
   "source": [
    "arr4 = np.random.randint(100, size = (10,10))\n",
    "arr4"
   ]
  },
  {
   "cell_type": "code",
   "execution_count": 11,
   "id": "51a4401e-ad2b-4535-8735-b4f396ffeff0",
   "metadata": {},
   "outputs": [
    {
     "data": {
      "text/plain": [
       "95"
      ]
     },
     "execution_count": 11,
     "metadata": {},
     "output_type": "execute_result"
    }
   ],
   "source": [
    "arr4.max()"
   ]
  },
  {
   "cell_type": "code",
   "execution_count": 12,
   "id": "17626698-d43f-4d09-82bf-e062ad095a6e",
   "metadata": {},
   "outputs": [
    {
     "data": {
      "text/plain": [
       "0"
      ]
     },
     "execution_count": 12,
     "metadata": {},
     "output_type": "execute_result"
    }
   ],
   "source": [
    "arr4.min()"
   ]
  },
  {
   "cell_type": "markdown",
   "id": "1c55b08e-5323-4eb6-9d79-68b8a32d7cee",
   "metadata": {},
   "source": [
    "### Create a random vector of size 30 and find the mean value"
   ]
  },
  {
   "cell_type": "code",
   "execution_count": 55,
   "id": "79e170b5-27af-46b4-b13d-906416d52f80",
   "metadata": {},
   "outputs": [
    {
     "data": {
      "text/plain": [
       "array([20, 13, 21,  8,  3,  4,  7, 28,  3,  5, 26,  7,  9, 27, 16, 20,  3,\n",
       "       25, 29, 28, 26, 28, 24, 12,  2, 24,  9,  9, 24,  3])"
      ]
     },
     "execution_count": 55,
     "metadata": {},
     "output_type": "execute_result"
    }
   ],
   "source": [
    "arr5 = np.random.randint(0,30, size = 30)\n",
    "arr5"
   ]
  },
  {
   "cell_type": "code",
   "execution_count": 56,
   "id": "f719d592-7c7f-449b-85f9-a3876121f81d",
   "metadata": {},
   "outputs": [
    {
     "data": {
      "text/plain": [
       "15.433333333333334"
      ]
     },
     "execution_count": 56,
     "metadata": {},
     "output_type": "execute_result"
    }
   ],
   "source": [
    "arr5.mean()"
   ]
  },
  {
   "cell_type": "markdown",
   "id": "dfd57e52-2e37-46ef-a508-51e3f202dd79",
   "metadata": {},
   "source": [
    "### Create a 2d array with 1 on the border and 0 inside"
   ]
  },
  {
   "cell_type": "code",
   "execution_count": 57,
   "id": "6610a0bc-ff6b-4051-b837-b4f1c0ff14bf",
   "metadata": {},
   "outputs": [
    {
     "data": {
      "text/plain": [
       "array([[1., 1., 1., 1., 1.],\n",
       "       [1., 0., 0., 0., 1.],\n",
       "       [1., 0., 0., 0., 1.],\n",
       "       [1., 0., 0., 0., 1.],\n",
       "       [1., 1., 1., 1., 1.]])"
      ]
     },
     "execution_count": 57,
     "metadata": {},
     "output_type": "execute_result"
    }
   ],
   "source": [
    "arr6 = np.ones((5,5))\n",
    "arr6[1:-1,1:-1] = 0\n",
    "arr6"
   ]
  },
  {
   "cell_type": "markdown",
   "id": "d9b1c437-c6ad-47e4-b439-cc2cfd6a8abf",
   "metadata": {},
   "source": [
    "### Create a 5x5 matrix with values 1,2,3,4 just below the diagonal"
   ]
  },
  {
   "cell_type": "code",
   "execution_count": 60,
   "id": "6744d7b2-cdd6-4ddd-ac02-7241e77b5f5d",
   "metadata": {},
   "outputs": [
    {
     "data": {
      "text/plain": [
       "array([[0, 0, 0, 0, 0],\n",
       "       [1, 0, 0, 0, 0],\n",
       "       [0, 2, 0, 0, 0],\n",
       "       [0, 0, 3, 0, 0],\n",
       "       [0, 0, 0, 4, 0]])"
      ]
     },
     "execution_count": 60,
     "metadata": {},
     "output_type": "execute_result"
    }
   ],
   "source": [
    "arr7 = np.diag([1, 2, 3, 4], k = -1)\n",
    "arr7"
   ]
  },
  {
   "cell_type": "markdown",
   "id": "54a7dd53-2bc9-4b65-bb35-6d7ed9a9a4d4",
   "metadata": {},
   "source": [
    "### Create a 8x8 matrix and fill it with a checkerboard pattern"
   ]
  },
  {
   "cell_type": "code",
   "execution_count": 13,
   "id": "ade76b43-fe13-46eb-ae94-4d78ff457c51",
   "metadata": {},
   "outputs": [
    {
     "data": {
      "text/plain": [
       "array([[0, 1, 0, 1, 0, 1, 0, 1],\n",
       "       [1, 0, 1, 0, 1, 0, 1, 0],\n",
       "       [0, 1, 0, 1, 0, 1, 0, 1],\n",
       "       [1, 0, 1, 0, 1, 0, 1, 0],\n",
       "       [0, 1, 0, 1, 0, 1, 0, 1],\n",
       "       [1, 0, 1, 0, 1, 0, 1, 0],\n",
       "       [0, 1, 0, 1, 0, 1, 0, 1],\n",
       "       [1, 0, 1, 0, 1, 0, 1, 0]])"
      ]
     },
     "execution_count": 13,
     "metadata": {},
     "output_type": "execute_result"
    }
   ],
   "source": [
    "arr8 = np.zeros((8,8),dtype=int)      # dama tahtası şeklinde 0 ve 1'ler\n",
    "arr8[1::2,::2] = 1     # satır da 1'ler\n",
    "arr8[::2,1::2] = 1     # sütun da 1'ler\n",
    "arr8"
   ]
  },
  {
   "cell_type": "markdown",
   "id": "1b868541-182d-4501-ba6c-62e42405e99f",
   "metadata": {},
   "source": [
    "### Create a checkerboard 8x8 matrix using the tile function"
   ]
  },
  {
   "cell_type": "code",
   "execution_count": 66,
   "id": "34780153-b42f-4492-a6d2-09b673936408",
   "metadata": {},
   "outputs": [
    {
     "data": {
      "text/plain": [
       "array([[0, 1],\n",
       "       [1, 0]])"
      ]
     },
     "execution_count": 66,
     "metadata": {},
     "output_type": "execute_result"
    }
   ],
   "source": [
    "np.array([[0,1],[1,0]])     # bu çıktının 4'e katlanmış hali checkerboard oluşturur"
   ]
  },
  {
   "cell_type": "code",
   "execution_count": 14,
   "id": "3d30b352-4ec1-407a-abbd-ba486c2fa653",
   "metadata": {},
   "outputs": [
    {
     "data": {
      "text/plain": [
       "array([[0, 1, 0, 1, 0, 1, 0, 1],\n",
       "       [1, 0, 1, 0, 1, 0, 1, 0],\n",
       "       [0, 1, 0, 1, 0, 1, 0, 1],\n",
       "       [1, 0, 1, 0, 1, 0, 1, 0],\n",
       "       [0, 1, 0, 1, 0, 1, 0, 1],\n",
       "       [1, 0, 1, 0, 1, 0, 1, 0],\n",
       "       [0, 1, 0, 1, 0, 1, 0, 1],\n",
       "       [1, 0, 1, 0, 1, 0, 1, 0]])"
      ]
     },
     "execution_count": 14,
     "metadata": {},
     "output_type": "execute_result"
    }
   ],
   "source": [
    "arr9 = np.tile( np.array([[0,1],[1,0]]), (4,4))      # numpy.tile(A, reps)\n",
    "arr9"
   ]
  },
  {
   "cell_type": "markdown",
   "id": "9d6b92c4-f359-4549-b5f2-490677294d2c",
   "metadata": {},
   "source": [
    "### Consider a (6,7,8) shape array, what is the index (x,y,z) of the 100th element?"
   ]
  },
  {
   "cell_type": "code",
   "execution_count": 22,
   "id": "ca0d02cf-a29e-44cb-b3bb-fdba8c6c84a2",
   "metadata": {},
   "outputs": [
    {
     "data": {
      "text/plain": [
       "array([[[17, 23, 87, 20, 88, 90, 55, 52],\n",
       "        [54, 45,  2, 11, 50, 84, 67, 10],\n",
       "        [42, 88, 26, 74,  9, 77, 68,  1],\n",
       "        [42, 76, 19,  7, 82,  9, 78, 73],\n",
       "        [44, 83, 57, 67,  8, 65, 90, 37],\n",
       "        [ 2,  1, 22, 86, 36,  0, 46, 11],\n",
       "        [52, 27, 84, 62, 78, 91, 84, 14]],\n",
       "\n",
       "       [[ 4, 18, 30, 56, 81, 63, 49, 52],\n",
       "        [42, 74, 10, 77, 81, 36, 91, 38],\n",
       "        [96, 69, 96, 61, 37, 94, 12, 25],\n",
       "        [15, 56,  0,  8, 89, 74, 76, 50],\n",
       "        [48,  7, 93, 59, 59, 64, 53, 84],\n",
       "        [79,  3,  3, 96, 54, 13, 95, 95],\n",
       "        [84, 77, 48, 18, 26,  6, 66, 39]],\n",
       "\n",
       "       [[30,  1, 82, 55, 58, 93, 57, 36],\n",
       "        [31,  1, 62, 40, 16, 46,  3, 27],\n",
       "        [53, 16,  1, 92, 35, 95, 63, 81],\n",
       "        [57, 40, 83, 28, 21, 42, 10, 75],\n",
       "        [95, 21, 40, 73, 83, 94, 43, 25],\n",
       "        [56, 47, 95, 18, 17, 36, 66,  4],\n",
       "        [84, 93, 86, 70, 51, 81, 45,  4]],\n",
       "\n",
       "       [[56, 37, 45, 90, 93, 32, 43,  7],\n",
       "        [54, 93, 83,  3, 89, 85, 95, 67],\n",
       "        [31, 41, 18, 17, 71, 95, 72,  7],\n",
       "        [97, 48, 31,  6, 10, 89, 32, 42],\n",
       "        [65, 82, 20, 99, 95, 19, 42,  5],\n",
       "        [89, 22, 82,  8, 38, 62, 58, 83],\n",
       "        [ 2, 70,  0, 50, 23, 16, 81, 26]],\n",
       "\n",
       "       [[24, 18, 30, 28, 48, 46, 59, 63],\n",
       "        [30, 15, 40, 46, 30, 66, 53, 97],\n",
       "        [99, 58,  1, 16, 49, 74, 62, 26],\n",
       "        [77, 41, 93, 55, 17, 65, 98, 41],\n",
       "        [ 6, 51, 60, 31,  0, 65, 72, 66],\n",
       "        [71, 12, 88, 21, 63, 91, 36, 43],\n",
       "        [89, 63, 92, 21, 48, 57,  8, 27]],\n",
       "\n",
       "       [[81, 39, 61, 27, 42,  6, 38, 20],\n",
       "        [31, 18, 85, 72, 66, 82, 24,  6],\n",
       "        [91, 52, 34, 88, 38, 65, 27, 28],\n",
       "        [17, 21, 33, 27, 18, 76, 34, 35],\n",
       "        [77, 78, 26,  5, 33, 45, 57, 52],\n",
       "        [57, 45, 15, 29, 66, 36, 15, 40],\n",
       "        [62, 72, 73, 44, 71, 11,  7, 11]]])"
      ]
     },
     "execution_count": 22,
     "metadata": {},
     "output_type": "execute_result"
    }
   ],
   "source": [
    "arr = np.random.randint(100, size = (6,7,8))\n",
    "arr"
   ]
  },
  {
   "cell_type": "code",
   "execution_count": 23,
   "id": "4a04fde2-1d37-4099-b889-be16f6bb02d1",
   "metadata": {},
   "outputs": [
    {
     "data": {
      "text/plain": [
       "(1, 5, 4)"
      ]
     },
     "execution_count": 23,
     "metadata": {},
     "output_type": "execute_result"
    }
   ],
   "source": [
    "np.unravel_index(100,(6,7,8))           # shape (6,7,8) olan array'in 100. elemanın index'ini getirir"
   ]
  },
  {
   "cell_type": "code",
   "execution_count": 30,
   "id": "55c51c22-a0bf-41bd-9659-b0d0518f8d26",
   "metadata": {},
   "outputs": [
    {
     "data": {
      "text/plain": [
       "203"
      ]
     },
     "execution_count": 30,
     "metadata": {},
     "output_type": "execute_result"
    }
   ],
   "source": [
    "arr.argmax()                             # bir eksen boyunca max değerin sırasını döndürür"
   ]
  },
  {
   "cell_type": "code",
   "execution_count": 31,
   "id": "b365d5e0-0daf-481b-9c1f-0470ecceb5dd",
   "metadata": {},
   "outputs": [
    {
     "data": {
      "text/plain": [
       "(3, 4, 3)"
      ]
     },
     "execution_count": 31,
     "metadata": {},
     "output_type": "execute_result"
    }
   ],
   "source": [
    "np.unravel_index(arr.argmax(),arr.shape)     # unravel_index ile max sayının indeksine erişim"
   ]
  },
  {
   "cell_type": "code",
   "execution_count": 32,
   "id": "0f5d55cf-b4ce-4836-b92e-93e85712284c",
   "metadata": {},
   "outputs": [
    {
     "data": {
      "text/plain": [
       "99"
      ]
     },
     "execution_count": 32,
     "metadata": {},
     "output_type": "execute_result"
    }
   ],
   "source": [
    "arr[3, 4, 3]       "
   ]
  },
  {
   "cell_type": "code",
   "execution_count": 33,
   "id": "f9914a22-f091-48a9-87ab-c7ce546c6edf",
   "metadata": {},
   "outputs": [
    {
     "data": {
      "text/plain": [
       "99"
      ]
     },
     "execution_count": 33,
     "metadata": {},
     "output_type": "execute_result"
    }
   ],
   "source": [
    "arr.max()"
   ]
  },
  {
   "cell_type": "markdown",
   "id": "10b1c453-aa43-4223-83db-8e5822156e0c",
   "metadata": {},
   "source": [
    "### How can I create an array with dimensions (6, 7, 8) using arange, and find its last element?"
   ]
  },
  {
   "cell_type": "code",
   "execution_count": 35,
   "id": "19a56aab-ed1f-43a9-aeb2-05e75f2d65d9",
   "metadata": {},
   "outputs": [
    {
     "data": {
      "text/plain": [
       "array([[[3, 4, 5, 9, 2, 7, 5, 5],\n",
       "        [2, 1, 6, 1, 5, 8, 9, 5],\n",
       "        [9, 8, 4, 1, 5, 8, 2, 2],\n",
       "        [4, 0, 1, 6, 5, 4, 0, 4],\n",
       "        [2, 9, 0, 6, 6, 8, 4, 2],\n",
       "        [8, 5, 9, 4, 0, 8, 6, 2],\n",
       "        [1, 4, 2, 8, 3, 2, 5, 7]],\n",
       "\n",
       "       [[0, 9, 2, 4, 0, 0, 7, 5],\n",
       "        [8, 4, 7, 7, 2, 4, 9, 3],\n",
       "        [6, 6, 1, 6, 3, 6, 1, 7],\n",
       "        [9, 8, 8, 1, 5, 7, 3, 1],\n",
       "        [0, 9, 2, 8, 3, 5, 8, 0],\n",
       "        [3, 9, 7, 7, 9, 4, 8, 9],\n",
       "        [5, 6, 5, 7, 0, 8, 5, 8]],\n",
       "\n",
       "       [[7, 9, 3, 9, 0, 1, 4, 6],\n",
       "        [9, 4, 7, 3, 3, 9, 8, 1],\n",
       "        [0, 8, 0, 5, 7, 4, 0, 0],\n",
       "        [8, 2, 2, 6, 9, 5, 0, 2],\n",
       "        [8, 8, 0, 6, 9, 9, 0, 8],\n",
       "        [3, 1, 0, 6, 0, 9, 9, 3],\n",
       "        [8, 9, 6, 6, 7, 7, 5, 2]],\n",
       "\n",
       "       [[0, 8, 6, 8, 2, 0, 0, 8],\n",
       "        [3, 6, 6, 0, 8, 8, 2, 7],\n",
       "        [0, 3, 9, 9, 3, 7, 2, 1],\n",
       "        [9, 7, 1, 1, 1, 5, 2, 4],\n",
       "        [9, 2, 4, 5, 0, 8, 6, 3],\n",
       "        [2, 5, 5, 1, 3, 1, 3, 1],\n",
       "        [3, 4, 2, 9, 6, 8, 0, 5]],\n",
       "\n",
       "       [[5, 0, 4, 5, 1, 6, 8, 1],\n",
       "        [5, 9, 4, 8, 0, 4, 2, 6],\n",
       "        [7, 9, 6, 7, 6, 1, 9, 5],\n",
       "        [3, 8, 1, 4, 7, 8, 9, 2],\n",
       "        [7, 1, 1, 9, 0, 2, 9, 3],\n",
       "        [7, 4, 8, 6, 9, 7, 2, 9],\n",
       "        [4, 7, 0, 1, 2, 5, 6, 5]],\n",
       "\n",
       "       [[8, 2, 2, 9, 2, 9, 2, 3],\n",
       "        [2, 0, 9, 9, 1, 6, 2, 8],\n",
       "        [7, 9, 7, 3, 5, 4, 1, 5],\n",
       "        [4, 8, 2, 5, 1, 8, 3, 0],\n",
       "        [4, 1, 6, 3, 7, 8, 2, 8],\n",
       "        [7, 5, 4, 6, 3, 3, 5, 3],\n",
       "        [1, 8, 7, 5, 2, 3, 8, 2]]])"
      ]
     },
     "execution_count": 35,
     "metadata": {},
     "output_type": "execute_result"
    }
   ],
   "source": [
    "arr10 = np.random.randint(10, size = (6,7,8))\n",
    "arr10"
   ]
  },
  {
   "cell_type": "code",
   "execution_count": 36,
   "id": "386772bb-4342-4245-aa86-61a952f226e1",
   "metadata": {},
   "outputs": [
    {
     "data": {
      "text/plain": [
       "array([2])"
      ]
     },
     "execution_count": 36,
     "metadata": {},
     "output_type": "execute_result"
    }
   ],
   "source": [
    "arr10[[-1],[-1],[-1]]         # shape'in tüm katmanlarında -1 yazarak son elemana ulaşırız"
   ]
  },
  {
   "cell_type": "markdown",
   "id": "333376dc-5075-41ad-b2c3-d8b8d72df3f4",
   "metadata": {},
   "source": [
    "### Given a one-dimensional array, make all elements between 3 and 8 inclusive negative."
   ]
  },
  {
   "cell_type": "code",
   "execution_count": 51,
   "id": "e22527ec-b2c0-4d52-b585-f1c476a9d0dd",
   "metadata": {},
   "outputs": [
    {
     "data": {
      "text/plain": [
       "array([0, 1, 2, 3, 4, 5, 6, 7, 8, 9])"
      ]
     },
     "execution_count": 51,
     "metadata": {},
     "output_type": "execute_result"
    }
   ],
   "source": [
    "arr11 = np.arange(10)\n",
    "arr11"
   ]
  },
  {
   "cell_type": "code",
   "execution_count": 46,
   "id": "9e76ae33-7e6c-4185-96b4-8104bbc03f13",
   "metadata": {},
   "outputs": [],
   "source": [
    "# mevcut vektör de 3. ve 8. index arası negatif olucaksa aşağıdaki kullanım"
   ]
  },
  {
   "cell_type": "code",
   "execution_count": 47,
   "id": "5757b519-bcc6-4a1c-a672-06ccce46f1cd",
   "metadata": {},
   "outputs": [
    {
     "data": {
      "text/plain": [
       "array([ 0,  1, -2, -3, -4, -5, -6, -7,  8,  9])"
      ]
     },
     "execution_count": 47,
     "metadata": {},
     "output_type": "execute_result"
    }
   ],
   "source": [
    "arr11[2:8] = -arr11[2:8]\n",
    "arr11"
   ]
  },
  {
   "cell_type": "code",
   "execution_count": 48,
   "id": "13dcd51d-6ee1-40a8-9dbd-5a4e9e55fb4c",
   "metadata": {},
   "outputs": [],
   "source": [
    "# mevcut vektörde 3 ile 8 arasında olan sayılar negatif olması isteniyorsa aşağıdaki kullanım"
   ]
  },
  {
   "cell_type": "code",
   "execution_count": 53,
   "id": "1615ed88-8c2a-4747-8445-0a5198b39569",
   "metadata": {},
   "outputs": [
    {
     "data": {
      "text/plain": [
       "array([ 0,  1,  2, -3, -4, -5, -6, -7, -8,  9])"
      ]
     },
     "execution_count": 53,
     "metadata": {},
     "output_type": "execute_result"
    }
   ],
   "source": [
    "liste = [3,4,5,6,7,8]\n",
    "for i in range(len(arr11)):\n",
    "    if arr11[i] in liste:\n",
    "        arr11[i] = -arr11[i]\n",
    "arr11"
   ]
  },
  {
   "cell_type": "markdown",
   "id": "678d2592-3f5a-44e3-906f-dd55e30c6861",
   "metadata": {},
   "source": [
    "### Create a 5x5 matrix with row values ranging from 0 to 4"
   ]
  },
  {
   "cell_type": "code",
   "execution_count": 114,
   "id": "b0517e4c-a0f6-4807-b282-1b7acf5726c7",
   "metadata": {},
   "outputs": [
    {
     "data": {
      "text/plain": [
       "array([[0., 0., 0., 0., 0.],\n",
       "       [0., 0., 0., 0., 0.],\n",
       "       [0., 0., 0., 0., 0.],\n",
       "       [0., 0., 0., 0., 0.],\n",
       "       [0., 0., 0., 0., 0.]])"
      ]
     },
     "execution_count": 114,
     "metadata": {},
     "output_type": "execute_result"
    }
   ],
   "source": [
    "arr = np.zeros((5,5))\n",
    "arr"
   ]
  },
  {
   "cell_type": "code",
   "execution_count": 115,
   "id": "603f2fd1-4822-4966-ba67-b71cd5a5b34a",
   "metadata": {},
   "outputs": [
    {
     "data": {
      "text/plain": [
       "array([[0., 1., 2., 3., 4.],\n",
       "       [0., 1., 2., 3., 4.],\n",
       "       [0., 1., 2., 3., 4.],\n",
       "       [0., 1., 2., 3., 4.],\n",
       "       [0., 1., 2., 3., 4.]])"
      ]
     },
     "execution_count": 115,
     "metadata": {},
     "output_type": "execute_result"
    }
   ],
   "source": [
    "arr += np.arange(5)\n",
    "arr"
   ]
  },
  {
   "cell_type": "markdown",
   "id": "7f17a491-fae1-41f0-9a76-b910c68ddf46",
   "metadata": {},
   "source": [
    "### Create a vector of size 12 with values ranging from 0 to 1, both excluded"
   ]
  },
  {
   "cell_type": "code",
   "execution_count": 73,
   "id": "e4420a7b-5522-4543-81ca-811dcb6f46fb",
   "metadata": {},
   "outputs": [
    {
     "data": {
      "text/plain": [
       "array([0.        , 0.08333333, 0.16666667, 0.25      , 0.33333333,\n",
       "       0.41666667, 0.5       , 0.58333333, 0.66666667, 0.75      ,\n",
       "       0.83333333, 0.91666667])"
      ]
     },
     "execution_count": 73,
     "metadata": {},
     "output_type": "execute_result"
    }
   ],
   "source": [
    "arr = np.linspace(0,1,12,endpoint=False)   # endpoint = False ile 1 dahil değil\n",
    "arr"
   ]
  },
  {
   "cell_type": "code",
   "execution_count": 74,
   "id": "79f9d70e-9ff6-4cb3-8757-7d945575b10b",
   "metadata": {},
   "outputs": [
    {
     "data": {
      "text/plain": [
       "array([0.08333333, 0.16666667, 0.25      , 0.33333333, 0.41666667,\n",
       "       0.5       , 0.58333333, 0.66666667, 0.75      , 0.83333333,\n",
       "       0.91666667])"
      ]
     },
     "execution_count": 74,
     "metadata": {},
     "output_type": "execute_result"
    }
   ],
   "source": [
    "arr[1:]       # burda da ilk 0'ı dahil etmeden çağırdık        "
   ]
  },
  {
   "cell_type": "code",
   "execution_count": 75,
   "id": "3cda6c24-a548-4b69-ad56-b1624138daea",
   "metadata": {},
   "outputs": [
    {
     "data": {
      "text/plain": [
       "array([0.        , 0.09090909, 0.18181818, 0.27272727, 0.36363636,\n",
       "       0.45454545, 0.54545455, 0.63636364, 0.72727273, 0.81818182,\n",
       "       0.90909091, 1.        ])"
      ]
     },
     "execution_count": 75,
     "metadata": {},
     "output_type": "execute_result"
    }
   ],
   "source": [
    "arr = np.linspace(0,1,12,endpoint=True)      # 1 dahil\n",
    "arr"
   ]
  },
  {
   "cell_type": "code",
   "execution_count": 76,
   "id": "d29cdf15-cfb4-4194-818c-e12af7751057",
   "metadata": {},
   "outputs": [
    {
     "data": {
      "text/plain": [
       "array([0.09090909, 0.18181818, 0.27272727, 0.36363636, 0.45454545,\n",
       "       0.54545455, 0.63636364, 0.72727273, 0.81818182, 0.90909091])"
      ]
     },
     "execution_count": 76,
     "metadata": {},
     "output_type": "execute_result"
    }
   ],
   "source": [
    "arr[1:-1]     # 0 ve 1'i dahil etmeden çağırıdık"
   ]
  },
  {
   "cell_type": "markdown",
   "id": "a32d462f-ae19-41d6-8524-880e520cd42b",
   "metadata": {},
   "source": [
    "### Create a random vector of size 10 and sort it"
   ]
  },
  {
   "cell_type": "code",
   "execution_count": 108,
   "id": "d7c23f0e-c815-4f03-b20c-69b9d9bf857b",
   "metadata": {},
   "outputs": [
    {
     "data": {
      "text/plain": [
       "array([0.00483605, 0.58091507, 0.26156235, 0.6231295 , 0.39610521,\n",
       "       0.19960294, 0.98419122, 0.49896363, 0.66135128, 0.68764636])"
      ]
     },
     "execution_count": 108,
     "metadata": {},
     "output_type": "execute_result"
    }
   ],
   "source": [
    "arr = np.random.random(10)\n",
    "arr"
   ]
  },
  {
   "cell_type": "code",
   "execution_count": 110,
   "id": "39d06006-1b21-469e-b1ea-bc3e42858bb1",
   "metadata": {},
   "outputs": [
    {
     "data": {
      "text/plain": [
       "array([0.00483605, 0.19960294, 0.26156235, 0.39610521, 0.49896363,\n",
       "       0.58091507, 0.6231295 , 0.66135128, 0.68764636, 0.98419122])"
      ]
     },
     "execution_count": 110,
     "metadata": {},
     "output_type": "execute_result"
    }
   ],
   "source": [
    "arr.sort()\n",
    "arr"
   ]
  },
  {
   "cell_type": "markdown",
   "id": "68bfbdeb-19cf-4fa4-90cc-b33724613f4c",
   "metadata": {},
   "source": [
    "### Consider two random array A anb B, check if they are equal"
   ]
  },
  {
   "cell_type": "code",
   "execution_count": 81,
   "id": "969351d8-7989-4f70-8ebc-5e56bd8ed8f0",
   "metadata": {},
   "outputs": [
    {
     "data": {
      "text/plain": [
       "True"
      ]
     },
     "execution_count": 81,
     "metadata": {},
     "output_type": "execute_result"
    }
   ],
   "source": [
    "A = np.array([1,2,3,4,5])\n",
    "B = np.array([1,2,3,4,5])\n",
    "equal = np.allclose(A,B)\n",
    "equal"
   ]
  },
  {
   "cell_type": "code",
   "execution_count": 83,
   "id": "b70c8e3e-6e9a-485d-bfd4-fa8a2e5d00b2",
   "metadata": {},
   "outputs": [
    {
     "data": {
      "text/plain": [
       "False"
      ]
     },
     "execution_count": 83,
     "metadata": {},
     "output_type": "execute_result"
    }
   ],
   "source": [
    "np.allclose([1,2,3, np.nan], [1,2,3, np.nan])                # nan değerlerin kıyaslanabilir karşılığı yok "
   ]
  },
  {
   "cell_type": "code",
   "execution_count": 84,
   "id": "eb01246e-6a22-42a7-b1e2-45c469410f7d",
   "metadata": {},
   "outputs": [
    {
     "data": {
      "text/plain": [
       "True"
      ]
     },
     "execution_count": 84,
     "metadata": {},
     "output_type": "execute_result"
    }
   ],
   "source": [
    "np.allclose([1,2,3, np.nan], [1,2,3, np.nan], equal_nan=True)  # equal_nan=True ile nan değerlerin eşit kabul edilmesi sağlandı"
   ]
  },
  {
   "cell_type": "markdown",
   "id": "8acfb65e-fa96-4fa2-a453-80b87d900d2f",
   "metadata": {},
   "source": [
    "### Create random vector of size 10 and replace the maximum value by 0"
   ]
  },
  {
   "cell_type": "code",
   "execution_count": 85,
   "id": "f96b4570-a549-407f-ae21-4b0746cd12e8",
   "metadata": {},
   "outputs": [
    {
     "data": {
      "text/plain": [
       "array([0.2105853 , 0.36642045, 0.18366233, 0.47002088, 0.61407164,\n",
       "       0.45805283, 0.48261988, 0.8565646 , 0.83062954, 0.87861206])"
      ]
     },
     "execution_count": 85,
     "metadata": {},
     "output_type": "execute_result"
    }
   ],
   "source": [
    "arr = np.random.random(10)\n",
    "arr"
   ]
  },
  {
   "cell_type": "code",
   "execution_count": 86,
   "id": "cbb4acb6-82c4-498d-baa2-e21730646286",
   "metadata": {},
   "outputs": [
    {
     "data": {
      "text/plain": [
       "0.8786120641799711"
      ]
     },
     "execution_count": 86,
     "metadata": {},
     "output_type": "execute_result"
    }
   ],
   "source": [
    "arr.max()"
   ]
  },
  {
   "cell_type": "code",
   "execution_count": 87,
   "id": "e9a4dd05-feec-4eee-a338-ef40f62d1d5f",
   "metadata": {},
   "outputs": [
    {
     "data": {
      "text/plain": [
       "array([0.2105853 , 0.36642045, 0.18366233, 0.47002088, 0.61407164,\n",
       "       0.45805283, 0.48261988, 0.8565646 , 0.83062954, 0.        ])"
      ]
     },
     "execution_count": 87,
     "metadata": {},
     "output_type": "execute_result"
    }
   ],
   "source": [
    "arr[arr.argmax()] = 0\n",
    "arr"
   ]
  },
  {
   "cell_type": "markdown",
   "id": "185eaf81-35fe-429e-9109-0fa27073a169",
   "metadata": {},
   "source": [
    "### How to swap two rows of an array?"
   ]
  },
  {
   "cell_type": "code",
   "execution_count": 103,
   "id": "9eea8824-040d-4b30-978f-031e6107db68",
   "metadata": {},
   "outputs": [
    {
     "data": {
      "text/plain": [
       "array([[0, 1, 2, 3, 4],\n",
       "       [5, 6, 7, 8, 9]])"
      ]
     },
     "execution_count": 103,
     "metadata": {},
     "output_type": "execute_result"
    }
   ],
   "source": [
    "arr= np.arange(10).reshape(2,5)\n",
    "arr"
   ]
  },
  {
   "cell_type": "code",
   "execution_count": 104,
   "id": "5ffa611d-3e59-43ce-93ec-b88bb86ad075",
   "metadata": {},
   "outputs": [
    {
     "data": {
      "text/plain": [
       "array([[5, 6, 7, 8, 9],\n",
       "       [0, 1, 2, 3, 4]])"
      ]
     },
     "execution_count": 104,
     "metadata": {},
     "output_type": "execute_result"
    }
   ],
   "source": [
    "arr[[0,1]] = arr[[1,0]]    # çift parantez ve [0,1] benim satırlarımı ifade ediyor (fancy mantığı)\n",
    "arr"
   ]
  },
  {
   "cell_type": "markdown",
   "id": "a4deed18-70e3-4b6a-b3f1-75c431b4ffdb",
   "metadata": {},
   "source": [
    "### Extra: How to swap two columns of an array? "
   ]
  },
  {
   "cell_type": "code",
   "execution_count": 116,
   "id": "dff28249-c4d0-4446-bd53-2f6ef902827d",
   "metadata": {},
   "outputs": [
    {
     "data": {
      "text/plain": [
       "array([[0, 1],\n",
       "       [2, 3],\n",
       "       [4, 5],\n",
       "       [6, 7],\n",
       "       [8, 9]])"
      ]
     },
     "execution_count": 116,
     "metadata": {},
     "output_type": "execute_result"
    }
   ],
   "source": [
    "arr= np.arange(10).reshape(5,2)\n",
    "arr"
   ]
  },
  {
   "cell_type": "code",
   "execution_count": 117,
   "id": "8e336f33-e728-4420-8ba0-e1488739400c",
   "metadata": {},
   "outputs": [
    {
     "data": {
      "text/plain": [
       "array([[1, 0],\n",
       "       [3, 2],\n",
       "       [5, 4],\n",
       "       [7, 6],\n",
       "       [9, 8]])"
      ]
     },
     "execution_count": 117,
     "metadata": {},
     "output_type": "execute_result"
    }
   ],
   "source": [
    "arr[:, [0,1]] = arr[:, [1,0]]\n",
    "arr"
   ]
  },
  {
   "cell_type": "markdown",
   "id": "49f976df-d9cb-4b1b-b437-2ff682dd5fbb",
   "metadata": {},
   "source": [
    "### How to find the most frequent value in an array?"
   ]
  },
  {
   "cell_type": "code",
   "execution_count": 119,
   "id": "a77b5149-e9fe-48bf-b02b-9b65a8257b9a",
   "metadata": {},
   "outputs": [
    {
     "data": {
      "text/plain": [
       "array([2, 1, 9, 4, 3, 7, 7, 7, 0, 7, 0, 9, 6, 0, 7, 8, 5, 1, 4, 6, 0, 4,\n",
       "       7, 8, 4, 6, 5, 6, 5, 1, 9, 4, 3, 5, 1, 8, 1, 4, 3, 2, 7, 1, 8, 6,\n",
       "       7, 3, 7, 8, 5, 9])"
      ]
     },
     "execution_count": 119,
     "metadata": {},
     "output_type": "execute_result"
    }
   ],
   "source": [
    "arr = np.random.randint(0,10, size = 50)\n",
    "arr"
   ]
  },
  {
   "cell_type": "code",
   "execution_count": 120,
   "id": "da7e8180-627d-4c64-a922-86217601e213",
   "metadata": {},
   "outputs": [
    {
     "data": {
      "text/plain": [
       "array([4, 6, 2, 4, 6, 5, 5, 9, 5, 4], dtype=int64)"
      ]
     },
     "execution_count": 120,
     "metadata": {},
     "output_type": "execute_result"
    }
   ],
   "source": [
    "np.bincount(arr)    # yukarıda belirttiğim aralık olan 0-10 arası sayıların tekrar durumlarını dömdürür"
   ]
  },
  {
   "cell_type": "code",
   "execution_count": 122,
   "id": "8b5a8169-6270-4863-b9bc-a5bff42b9a09",
   "metadata": {},
   "outputs": [
    {
     "data": {
      "text/plain": [
       "9"
      ]
     },
     "execution_count": 122,
     "metadata": {},
     "output_type": "execute_result"
    }
   ],
   "source": [
    "np.bincount(arr).max()        # max tekrar sayısı"
   ]
  },
  {
   "cell_type": "code",
   "execution_count": 121,
   "id": "fb56394b-7fe1-463e-840d-48c96037067f",
   "metadata": {},
   "outputs": [
    {
     "data": {
      "text/plain": [
       "7"
      ]
     },
     "execution_count": 121,
     "metadata": {},
     "output_type": "execute_result"
    }
   ],
   "source": [
    "np.bincount(arr).argmax()     # 7 rakamı 9 kez tekrar etmiş "
   ]
  },
  {
   "cell_type": "code",
   "execution_count": null,
   "id": "296b56ba-3325-4d3b-abfc-103ed1b7b70e",
   "metadata": {},
   "outputs": [],
   "source": []
  }
 ],
 "metadata": {
  "kernelspec": {
   "display_name": "Python 3 (ipykernel)",
   "language": "python",
   "name": "python3"
  },
  "language_info": {
   "codemirror_mode": {
    "name": "ipython",
    "version": 3
   },
   "file_extension": ".py",
   "mimetype": "text/x-python",
   "name": "python",
   "nbconvert_exporter": "python",
   "pygments_lexer": "ipython3",
   "version": "3.9.13"
  }
 },
 "nbformat": 4,
 "nbformat_minor": 5
}
